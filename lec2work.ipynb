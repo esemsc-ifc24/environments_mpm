{
 "cells": [
  {
   "cell_type": "code",
   "execution_count": 4,
   "metadata": {},
   "outputs": [
    {
     "name": "stdout",
     "output_type": "stream",
     "text": [
      "Intel MKL WARNING: Support of Intel(R) Streaming SIMD Extensions 4.2 (Intel(R) SSE4.2) enabled only processors has been deprecated. Intel oneAPI Math Kernel Library 2025.0 will require Intel(R) Advanced Vector Extensions (Intel(R) AVX) instructions.\n",
      "Intel MKL WARNING: Support of Intel(R) Streaming SIMD Extensions 4.2 (Intel(R) SSE4.2) enabled only processors has been deprecated. Intel oneAPI Math Kernel Library 2025.0 will require Intel(R) Advanced Vector Extensions (Intel(R) AVX) instructions.\n"
     ]
    }
   ],
   "source": [
    "import pybryt\n",
    "from reflecture import pybryt\n",
    "from reflecture import pybryt_reference\n",
    "\n",
    "import numpy as np"
   ]
  },
  {
   "cell_type": "code",
   "execution_count": 5,
   "metadata": {},
   "outputs": [],
   "source": [
    "a = np.array([-1, 0, 1])"
   ]
  },
  {
   "cell_type": "code",
   "execution_count": 6,
   "metadata": {},
   "outputs": [
    {
     "name": "stdout",
     "output_type": "stream",
     "text": [
      "[-1  0  1]\n",
      "Dimensions  1\n",
      "Shape       (3,)\n",
      "Size        3\n",
      "Data type   int64\n"
     ]
    }
   ],
   "source": [
    "print(a)\n",
    "\n",
    "print(\"Dimensions \", a.ndim)   # Number of dimensions\n",
    "print(\"Shape      \", a.shape)  # number of elements in each dimension\n",
    "print(\"Size       \", a.size)   # total number of elements\n",
    "print(\"Data type  \", a.dtype)  # data type of element, 64 bit float (IEEE 754) by default"
   ]
  },
  {
   "cell_type": "code",
   "execution_count": 7,
   "metadata": {},
   "outputs": [
    {
     "name": "stdout",
     "output_type": "stream",
     "text": [
      "[1.1 2.2 3.3]\n",
      "Data type float32\n",
      "[1. 2. 3. 4.]\n",
      "Data type float64\n"
     ]
    }
   ],
   "source": [
    "a = np.array( [1.1,2.2,3.3], np.float32)\n",
    "print(a)\n",
    "print(\"Data type\", a.dtype)\n",
    "\n",
    "a = np.array([1,2,3,4], np.float64)\n",
    "print(a)\n",
    "print(\"Data type\", a.dtype)\n",
    "\n"
   ]
  },
  {
   "cell_type": "code",
   "execution_count": 8,
   "metadata": {},
   "outputs": [
    {
     "name": "stdout",
     "output_type": "stream",
     "text": [
      "[[1 2 3]\n",
      " [4 5 6]]\n",
      "Dimensions:  2\n",
      "Size:        6\n",
      "Shape:       (2, 3)\n"
     ]
    }
   ],
   "source": [
    "mat = np.array( [[1,2,3], [4,5,6]] )\n",
    "print(mat)\n",
    "print(\"Dimensions: \", mat.ndim)\n",
    "print(\"Size:       \", mat.size)\n",
    "print(\"Shape:      \", mat.shape)"
   ]
  },
  {
   "cell_type": "code",
   "execution_count": 9,
   "metadata": {},
   "outputs": [
    {
     "name": "stdout",
     "output_type": "stream",
     "text": [
      "array([[1, 2, 3],\n",
      "       [4, 5, 6]])\n"
     ]
    }
   ],
   "source": [
    "from pprint import pprint\n",
    "\n",
    "pprint(mat)"
   ]
  },
  {
   "cell_type": "code",
   "execution_count": 10,
   "metadata": {},
   "outputs": [
    {
     "name": "stdout",
     "output_type": "stream",
     "text": [
      "array([[1.+0.j, 2.+0.j, 3.+0.j],\n",
      "       [4.+0.j, 5.+0.j, 6.+0.j]])\n"
     ]
    }
   ],
   "source": [
    "alist = [[1, 2, 3], [4, 5, 6]]\n",
    "mat = np.array(alist, complex)\n",
    "pprint(mat)"
   ]
  },
  {
   "cell_type": "code",
   "execution_count": 11,
   "metadata": {},
   "outputs": [],
   "source": [
    "a = np.array([[11, 12, 13], [21, 22, 23], [31, 32, 33], [41, 42, 43]])\n",
    "b = np.array([[[1, 1], [2, 2], [3, 3], [4, 4]], [[1, 1], [2, 2], [3, 3], [4, 4]],\n",
    "              [[1, 1], [2, 2], [3, 3], [4, 4]]])"
   ]
  },
  {
   "cell_type": "code",
   "execution_count": 12,
   "metadata": {},
   "outputs": [],
   "source": [
    "shape_a = (4,3)\n",
    "shape_b = (3,4,2)"
   ]
  },
  {
   "cell_type": "code",
   "execution_count": 13,
   "metadata": {},
   "outputs": [
    {
     "name": "stdout",
     "output_type": "stream",
     "text": [
      "REFERENCE: exercise-2_21\n",
      "SATISFIED: True\n",
      "MESSAGES:\n",
      "  - SUCCESS: Array `a` checked: OK\n",
      "  - SUCCESS: Correct number of columns and/or rows\n",
      "REFERENCE: exercise-2_22\n",
      "SATISFIED: True\n",
      "MESSAGES:\n",
      "  - SUCCESS: Array `b` checked: OK\n",
      "  - SUCCESS: Correct number of columns and/or rows\n"
     ]
    }
   ],
   "source": [
    "## The following code is used to check you solution and should not be modified\n",
    "## It should help you by providing feedback to the solution you have provided\n",
    "with pybryt.check(pybryt_reference(2, 21)):\n",
    "    a\n",
    "    shape_a\n",
    "\n",
    "## The following code is used to check you solution and should not be modified\n",
    "## It should help you by providing feedback to the solution you have provided\n",
    "with pybryt.check(pybryt_reference(2, 22)):\n",
    "    b\n",
    "    shape_b\n",
    "\n"
   ]
  },
  {
   "cell_type": "code",
   "execution_count": 14,
   "metadata": {},
   "outputs": [
    {
     "name": "stdout",
     "output_type": "stream",
     "text": [
      "(2, 2, 2)\n",
      "c[1][0][1]: 6\n",
      "c[1, 0, 1]: 6\n"
     ]
    }
   ],
   "source": [
    "c = np.array([[[1, 2], [3, 4]], [[5, 6], [7, 8]]])\n",
    "\n",
    "print(c.shape)\n",
    "print(\"c[1][0][1]:\", c[1][0][1]) # using index notation\n",
    "print(\"c[1, 0, 1]:\", c[1, 0, 1]) # using a tuple (more performant)"
   ]
  },
  {
   "cell_type": "code",
   "execution_count": 15,
   "metadata": {},
   "outputs": [
    {
     "name": "stdout",
     "output_type": "stream",
     "text": [
      "[[  1   1   2]\n",
      " [  3   5   8]\n",
      " [ 13  21  34]\n",
      " [ 55  89 144]]\n",
      "[[   1    1    2]\n",
      " [   3    5    8]\n",
      " [  13 1001 1001]\n",
      " [  55 1001 1001]]\n"
     ]
    }
   ],
   "source": [
    "m = np.array([[1,1,2],[3,5,8],[13,21,34],[55,89,144]])\n",
    "print(m)\n",
    "m = m[:]\n",
    "m[2:4, 1:3] = 1001\n",
    "print(m)"
   ]
  },
  {
   "cell_type": "code",
   "execution_count": 16,
   "metadata": {},
   "outputs": [
    {
     "name": "stdout",
     "output_type": "stream",
     "text": [
      "REFERENCE: exercise-2_4\n",
      "SATISFIED: True\n",
      "MESSAGES:\n",
      "  - SUCCESS: Great, you have succesfully affected the change to the array.\n"
     ]
    }
   ],
   "source": [
    "# The following code is used to check your answer and should not be modified\n",
    "with pybryt.check(pybryt_reference(2, 4)):\n",
    "    m"
   ]
  },
  {
   "cell_type": "code",
   "execution_count": 17,
   "metadata": {},
   "outputs": [
    {
     "name": "stdout",
     "output_type": "stream",
     "text": [
      "a = \n",
      "array([0, 1, 2, 3, 4, 5])\n",
      "a.shape =  (6,) \n",
      "\n",
      "array([[0, 1],\n",
      "       [2, 3],\n",
      "       [4, 5]])\n",
      "mat =  [0 1 2 3 4 5]\n",
      "mat1 =  [[0 1]\n",
      " [2 3]\n",
      " [4 5]]\n",
      "mat2 =  [[0 1 2 3 4 5 0 1 2]\n",
      " [3 4 5 0 1 2 3 4 5]\n",
      " [0 1 2 3 4 5 0 1 2]]\n",
      "mat3 =  [[0 1]\n",
      " [2 3]\n",
      " [4 5]]\n"
     ]
    }
   ],
   "source": [
    "a = np.arange(6)\n",
    "print(\"a = \")\n",
    "pprint(a)\n",
    "print(\"a.shape = \", a.shape, \"\\n\")\n",
    "\n",
    "# The new shape should be compatible with the old shape\n",
    "a.shape = (3,2)\n",
    "pprint(a)\n",
    "\n",
    "# Or you can alter the size and shape of the array with resize().\n",
    "# https://numpy.org/doc/stable/reference/generated/numpy.resize.html\n",
    "mat = np.arange(6)\n",
    "print(\"mat = \", mat)\n",
    "\n",
    "mat1 = np.resize(mat, (3, 2))\n",
    "print(\"mat1 = \", mat1)\n",
    "\n",
    "mat2 = np.resize(mat, (3, 9))\n",
    "print(\"mat2 = \", mat2)\n",
    "\n",
    "mat3 = np.reshape(mat, (3, 2))\n",
    "print(\"mat3 = \", mat3)\n",
    "\n"
   ]
  },
  {
   "cell_type": "code",
   "execution_count": 18,
   "metadata": {},
   "outputs": [
    {
     "data": {
      "text/plain": [
       "False"
      ]
     },
     "execution_count": 18,
     "metadata": {},
     "output_type": "execute_result"
    }
   ],
   "source": [
    "mat1.base is mat"
   ]
  },
  {
   "cell_type": "code",
   "execution_count": 19,
   "metadata": {},
   "outputs": [
    {
     "name": "stdout",
     "output_type": "stream",
     "text": [
      "[[0 1 2 3 4]\n",
      " [5 6 7 8 9]]\n",
      "[[0 1 2 3 4]\n",
      " [5 6 7 8 9]]\n"
     ]
    }
   ],
   "source": [
    "a = np.arange(10).reshape([2,5])\n",
    "b = np.arange(10).reshape([2,5])\n",
    "print(a)\n",
    "print(b)"
   ]
  },
  {
   "cell_type": "code",
   "execution_count": 20,
   "metadata": {},
   "outputs": [
    {
     "name": "stdout",
     "output_type": "stream",
     "text": [
      "[[-0.  -0.1 -0.2 -0.3 -0.4]\n",
      " [-0.5 -0.6 -0.7 -0.8 -0.9]]\n",
      "[[ 0  2  4  6  8]\n",
      " [10 12 14 16 18]]\n"
     ]
    }
   ],
   "source": [
    "-0.1*a\n",
    "print(-0.1*a)\n",
    "\n",
    "print(a+b)\n"
   ]
  },
  {
   "cell_type": "code",
   "execution_count": 21,
   "metadata": {},
   "outputs": [
    {
     "data": {
      "text/plain": [
       "array([[ 0,  1,  4,  9, 16],\n",
       "       [25, 36, 49, 64, 81]])"
      ]
     },
     "execution_count": 21,
     "metadata": {},
     "output_type": "execute_result"
    }
   ],
   "source": [
    "a*b"
   ]
  },
  {
   "cell_type": "code",
   "execution_count": 22,
   "metadata": {},
   "outputs": [
    {
     "data": {
      "text/plain": [
       "array([[ 30,  80],\n",
       "       [ 80, 255]])"
      ]
     },
     "execution_count": 22,
     "metadata": {},
     "output_type": "execute_result"
    }
   ],
   "source": [
    "a.dot(b.T)"
   ]
  },
  {
   "cell_type": "code",
   "execution_count": 23,
   "metadata": {},
   "outputs": [
    {
     "name": "stdout",
     "output_type": "stream",
     "text": [
      "[  1   8  27  64 125 216 343 512 729]\n"
     ]
    }
   ],
   "source": [
    "def f(x):\n",
    "    return x**3\n",
    "\n",
    "x = np.array([1,2,3,4,5,6,7,8,9])\n",
    "y = f(x)\n",
    "\n",
    "print(y)"
   ]
  },
  {
   "cell_type": "code",
   "execution_count": 24,
   "metadata": {},
   "outputs": [
    {
     "name": "stdout",
     "output_type": "stream",
     "text": [
      "[[ 2  1  0]\n",
      " [-1  2  1]\n",
      " [ 0 -1  2]]\n"
     ]
    }
   ],
   "source": [
    "A = np.array([\n",
    "    [2,1,0],\n",
    "    [-1,2,1],\n",
    "    [0,-1,2]\n",
    "])\n",
    "print(A)"
   ]
  },
  {
   "cell_type": "code",
   "execution_count": 25,
   "metadata": {},
   "outputs": [],
   "source": [
    "def f_02_06(x):\n",
    "    (x**3) + (x * (np.exp(x))) + 1"
   ]
  },
  {
   "cell_type": "code",
   "execution_count": 26,
   "metadata": {},
   "outputs": [],
   "source": [
    "f_02_06(A)"
   ]
  },
  {
   "cell_type": "code",
   "execution_count": 27,
   "metadata": {},
   "outputs": [
    {
     "name": "stdout",
     "output_type": "stream",
     "text": [
      "REFERENCE: exercise-2_6\n",
      "SATISFIED: False\n",
      "MESSAGES:\n",
      "  - Matrix `A` checked and it looks good.\n",
      "  - ERROR: Your function returns the wrong solution. Check it, and try again.\n"
     ]
    }
   ],
   "source": [
    "with pybryt.check(pybryt_reference(2, 6)):\n",
    "    f_02_06(A)"
   ]
  },
  {
   "cell_type": "code",
   "execution_count": 28,
   "metadata": {},
   "outputs": [
    {
     "name": "stdout",
     "output_type": "stream",
     "text": [
      "[[ 1  2  3  7  8  9]\n",
      " [ 4  5  6 10 11 12]]\n"
     ]
    }
   ],
   "source": [
    "a1 = np.array([[1,2,3],[4,5,6]])\n",
    "a2 = np.array([[7,8,9],[10,11,12]])\n",
    "a3 = np.concatenate((a1,a2),axis=1)\n",
    "print(a3)"
   ]
  },
  {
   "cell_type": "code",
   "execution_count": 29,
   "metadata": {},
   "outputs": [
    {
     "name": "stdout",
     "output_type": "stream",
     "text": [
      "[[ 1  2  3  7  8  9]\n",
      " [ 4  5  6 10 11 12]]\n"
     ]
    },
    {
     "data": {
      "text/plain": [
       "array([ 1,  2,  3,  7,  8,  9,  4,  5,  6, 10, 11, 12])"
      ]
     },
     "execution_count": 29,
     "metadata": {},
     "output_type": "execute_result"
    }
   ],
   "source": [
    "np.split(a3,1,axis=0)\n",
    "print(a3)\n",
    "np.ravel(a3)"
   ]
  },
  {
   "cell_type": "code",
   "execution_count": 30,
   "metadata": {},
   "outputs": [
    {
     "name": "stdout",
     "output_type": "stream",
     "text": [
      "[[1 2 3]\n",
      " [4 5 6]]\n",
      "[[ 7  8  9]\n",
      " [10 11 12]]\n"
     ]
    }
   ],
   "source": [
    "print(a1)\n",
    "print(a2)"
   ]
  },
  {
   "cell_type": "code",
   "execution_count": 31,
   "metadata": {},
   "outputs": [
    {
     "name": "stdout",
     "output_type": "stream",
     "text": [
      "[[ 1  2  3]\n",
      " [ 4  5  6]\n",
      " [ 7  8  9]\n",
      " [10 11 12]]\n"
     ]
    }
   ],
   "source": [
    "a4 = np.concatenate((a1, a2), axis=0)\n",
    "print(a4)"
   ]
  },
  {
   "cell_type": "code",
   "execution_count": 32,
   "metadata": {},
   "outputs": [
    {
     "name": "stdout",
     "output_type": "stream",
     "text": [
      "REFERENCE: exercise-2_7\n",
      "SATISFIED: True\n",
      "MESSAGES:\n",
      "  - SUCCESS: Array `a1` check: OK.\n",
      "  - SUCCESS: Array `a2` check: OK.\n",
      "  - SUCCESS: Super! Array `a4` appears as expected.\n"
     ]
    }
   ],
   "source": [
    "with pybryt.check(pybryt_reference(2, 7)):\n",
    "    a1\n",
    "    a2\n",
    "    a4"
   ]
  },
  {
   "cell_type": "code",
   "execution_count": 33,
   "metadata": {},
   "outputs": [
    {
     "name": "stdout",
     "output_type": "stream",
     "text": [
      "array([[ 0,  1,  2],\n",
      "       [ 3,  4,  5],\n",
      "       [ 6,  7,  8],\n",
      "       [ 9, 10, 11]])\n",
      "[ 0  2  9 11]\n"
     ]
    }
   ],
   "source": [
    "p = np.array([[0, 1, 2],[3, 4, 5],[6, 7,8],[9, 10, 11]])\n",
    "pprint(p)\n",
    "\n",
    "rows = [0, 0, 3, 3]   # indices for rows\n",
    "cols = [0, 2, 0, 2]   # indices for columns\n",
    "q = p[rows, cols]\n",
    "print(q)"
   ]
  },
  {
   "cell_type": "code",
   "execution_count": 34,
   "metadata": {},
   "outputs": [
    {
     "name": "stdout",
     "output_type": "stream",
     "text": [
      "False\n"
     ]
    }
   ],
   "source": [
    "print(q.base is p)"
   ]
  },
  {
   "cell_type": "code",
   "execution_count": 35,
   "metadata": {},
   "outputs": [
    {
     "name": "stdout",
     "output_type": "stream",
     "text": [
      "[[  0  -1   4  20  99]\n",
      " [ -3  -5   6   7 -10]]\n",
      "[ -1  -3  -5 -10]\n"
     ]
    }
   ],
   "source": [
    "m = np.array([[0, -1, 4, 20, 99], [-3, -5, 6, 7, -10]])\n",
    "print(m)\n",
    "print(m[m < 0])"
   ]
  },
  {
   "cell_type": "code",
   "execution_count": 36,
   "metadata": {},
   "outputs": [
    {
     "name": "stdout",
     "output_type": "stream",
     "text": [
      "[0 1 2 3 4 5 6 7 8 9]\n"
     ]
    }
   ],
   "source": [
    "a = np.arange(10)\n",
    "print(a)\n",
    "mask = np.ones(len(a), dtype=bool)\n",
    "mask[[0,2,4]] = False  # set certain mask values to False\n",
    "result = a[mask]"
   ]
  },
  {
   "cell_type": "code",
   "execution_count": 37,
   "metadata": {},
   "outputs": [
    {
     "name": "stdout",
     "output_type": "stream",
     "text": [
      "array([1, 3, 5, 6, 7, 8, 9])\n"
     ]
    }
   ],
   "source": [
    "pprint(result)"
   ]
  },
  {
   "cell_type": "code",
   "execution_count": 38,
   "metadata": {},
   "outputs": [
    {
     "name": "stdout",
     "output_type": "stream",
     "text": [
      "[0 1 2 3 4 5 6 7 8 9]\n",
      "[0 1 2 4 6 7 8]\n"
     ]
    }
   ],
   "source": [
    "a = np.arange(10)\n",
    "print(a)\n",
    "\n",
    "def f_02_09(a):\n",
    "    mask = np.ones(len(a), dtype=bool)\n",
    "    mask[[3,5,9]] = False\n",
    "    return a[mask]\n",
    "\n",
    "f_02_09(a)\n",
    "print(f_02_09(a))"
   ]
  },
  {
   "cell_type": "code",
   "execution_count": 39,
   "metadata": {},
   "outputs": [
    {
     "name": "stdout",
     "output_type": "stream",
     "text": [
      "[0 1 2 4 6 7 8]\n",
      "REFERENCE: exercise-2_9\n",
      "SATISFIED: True\n",
      "MESSAGES:\n",
      "  - SUCCESS: You are using the correct input parameter to test your function.\n",
      "  - SUCCESS: Great! Your function returns the correct result.\n"
     ]
    }
   ],
   "source": [
    "with pybryt.check(pybryt_reference(2, 9)):\n",
    "    print(f_02_09(a))"
   ]
  },
  {
   "cell_type": "code",
   "execution_count": 40,
   "metadata": {},
   "outputs": [
    {
     "name": "stdout",
     "output_type": "stream",
     "text": [
      "157 ns ± 1.22 ns per loop (mean ± std. dev. of 3 runs, 10,000,000 loops each)\n",
      "84.3 ns ± 0.204 ns per loop (mean ± std. dev. of 3 runs, 10,000,000 loops each)\n"
     ]
    }
   ],
   "source": [
    "# Accessing a 2d array\n",
    "nd = np.arange(100).reshape((10,10))\n",
    "\n",
    "# accessing element of 2d array\n",
    "%timeit -n 10000000 -r 3 nd[5][5]\n",
    "%timeit -n 10000000 -r 3 nd[5,5]"
   ]
  },
  {
   "cell_type": "code",
   "execution_count": null,
   "metadata": {},
   "outputs": [
    {
     "name": "stdout",
     "output_type": "stream",
     "text": [
      "198 ms ± 40.7 ms per loop (mean ± std. dev. of 10 runs, 1 loop each)\n"
     ]
    }
   ],
   "source": [
    "# Multiplying two vectors\n",
    "x = np.arange(10E7)\n",
    "%timeit -n 1 -r 10 x*x\n",
    "%timeit -n 1 -r 10 x**2"
   ]
  },
  {
   "cell_type": "code",
   "execution_count": 39,
   "metadata": {},
   "outputs": [
    {
     "name": "stderr",
     "output_type": "stream",
     "text": [
      "/var/folders/5_/xk1_mg_j3w36ptjv7xx4l5ym0000gp/T/ipykernel_48384/616687418.py:2: MatplotlibDeprecationWarning: The all_backends attribute was deprecated in Matplotlib 3.9 and will be removed in 3.11. Use ``matplotlib.backends.backend_registry.list_builtin()`` instead.\n",
      "  print(matplotlib.rcsetup.all_backends)\n"
     ]
    },
    {
     "name": "stdout",
     "output_type": "stream",
     "text": [
      "['gtk3agg', 'gtk3cairo', 'gtk4agg', 'gtk4cairo', 'macosx', 'nbagg', 'notebook', 'qtagg', 'qtcairo', 'qt5agg', 'qt5cairo', 'tkagg', 'tkcairo', 'webagg', 'wx', 'wxagg', 'wxcairo', 'agg', 'cairo', 'pdf', 'pgf', 'ps', 'svg', 'template']\n"
     ]
    }
   ],
   "source": [
    "import matplotlib\n",
    "print(matplotlib.rcsetup.all_backends)\n",
    "\n",
    "%matplotlib inline\n",
    "\n",
    "#%matplotlib widget"
   ]
  },
  {
   "cell_type": "code",
   "execution_count": 40,
   "metadata": {},
   "outputs": [
    {
     "name": "stdout",
     "output_type": "stream",
     "text": [
      "['gtk3agg', 'gtk3cairo', 'gtk4agg', 'gtk4cairo', 'macosx', 'nbagg', 'notebook', 'qtagg', 'qtcairo', 'qt5agg', 'qt5cairo', 'tkagg', 'tkcairo', 'webagg', 'wx', 'wxagg', 'wxcairo', 'agg', 'cairo', 'pdf', 'pgf', 'ps', 'svg', 'template']\n"
     ]
    }
   ],
   "source": [
    "import matplotlib\n",
    "print(matplotlib.rcsetup.all_backends)\n"
   ]
  },
  {
   "cell_type": "code",
   "execution_count": 5,
   "metadata": {},
   "outputs": [
    {
     "name": "stdout",
     "output_type": "stream",
     "text": [
      "Intel MKL WARNING: Support of Intel(R) Streaming SIMD Extensions 4.2 (Intel(R) SSE4.2) enabled only processors has been deprecated. Intel oneAPI Math Kernel Library 2025.0 will require Intel(R) Advanced Vector Extensions (Intel(R) AVX) instructions.\n",
      "Intel MKL WARNING: Support of Intel(R) Streaming SIMD Extensions 4.2 (Intel(R) SSE4.2) enabled only processors has been deprecated. Intel oneAPI Math Kernel Library 2025.0 will require Intel(R) Advanced Vector Extensions (Intel(R) AVX) instructions.\n"
     ]
    },
    {
     "ename": "NameError",
     "evalue": "name 'np' is not defined",
     "output_type": "error",
     "traceback": [
      "\u001b[0;31m---------------------------------------------------------------------------\u001b[0m",
      "\u001b[0;31mNameError\u001b[0m                                 Traceback (most recent call last)",
      "Cell \u001b[0;32mIn[5], line 8\u001b[0m\n\u001b[1;32m      5\u001b[0m \u001b[38;5;28;01mfrom\u001b[39;00m \u001b[38;5;21;01mscipy\u001b[39;00m\u001b[38;5;21;01m.\u001b[39;00m\u001b[38;5;21;01minterpolate\u001b[39;00m \u001b[38;5;28;01mimport\u001b[39;00m lagrange\n\u001b[1;32m      7\u001b[0m \u001b[38;5;66;03m# Invent some raw data \u001b[39;00m\n\u001b[0;32m----> 8\u001b[0m x\u001b[38;5;241m=\u001b[39mnp\u001b[38;5;241m.\u001b[39marray([\u001b[38;5;241m0.5\u001b[39m,\u001b[38;5;241m2.0\u001b[39m,\u001b[38;5;241m4.0\u001b[39m,\u001b[38;5;241m5.0\u001b[39m,\u001b[38;5;241m7.0\u001b[39m,\u001b[38;5;241m9.0\u001b[39m])\n\u001b[1;32m      9\u001b[0m y\u001b[38;5;241m=\u001b[39mnp\u001b[38;5;241m.\u001b[39marray([\u001b[38;5;241m0.5\u001b[39m,\u001b[38;5;241m0.4\u001b[39m,\u001b[38;5;241m0.3\u001b[39m,\u001b[38;5;241m0.1\u001b[39m,\u001b[38;5;241m0.9\u001b[39m,\u001b[38;5;241m0.8\u001b[39m])\n\u001b[1;32m     11\u001b[0m \u001b[38;5;66;03m## scipy.interpolate returns a numpy.poly1d instance\u001b[39;00m\n",
      "\u001b[0;31mNameError\u001b[0m: name 'np' is not defined"
     ]
    }
   ],
   "source": [
    "%matplotlib widget\n",
    "import matplotlib.pyplot as plt\n",
    "\n",
    "from scipy import interpolate as sitp\n",
    "from scipy.interpolate import lagrange\n",
    "\n",
    "# Invent some raw data \n",
    "x=np.array([0.5,2.0,4.0,5.0,7.0,9.0])\n",
    "y=np.array([0.5,0.4,0.3,0.1,0.9,0.8])\n",
    "\n",
    "## scipy.interpolate returns a numpy.poly1d instance\n",
    "lp=sitp.lagrange(x, y)\n",
    "\n",
    "xx= np.linspace(0.4, 9.1, 100)\n",
    "fig = plt.figure()\n",
    "plt.plot(x,y, \"o\", xx, lp(xx))\n",
    "plt.show()"
   ]
  },
  {
   "cell_type": "code",
   "execution_count": 1,
   "metadata": {},
   "outputs": [
    {
     "name": "stdout",
     "output_type": "stream",
     "text": [
      "None\n"
     ]
    }
   ],
   "source": [
    "import scipy\n",
    "print(scipy.__file__)\n"
   ]
  },
  {
   "cell_type": "code",
   "execution_count": 2,
   "metadata": {},
   "outputs": [
    {
     "name": "stdout",
     "output_type": "stream",
     "text": [
      "Intel MKL WARNING: Support of Intel(R) Streaming SIMD Extensions 4.2 (Intel(R) SSE4.2) enabled only processors has been deprecated. Intel oneAPI Math Kernel Library 2025.0 will require Intel(R) Advanced Vector Extensions (Intel(R) AVX) instructions.\n",
      "Intel MKL WARNING: Support of Intel(R) Streaming SIMD Extensions 4.2 (Intel(R) SSE4.2) enabled only processors has been deprecated. Intel oneAPI Math Kernel Library 2025.0 will require Intel(R) Advanced Vector Extensions (Intel(R) AVX) instructions.\n"
     ]
    }
   ],
   "source": [
    "import matplotlib.pyplot as plt"
   ]
  },
  {
   "cell_type": "code",
   "execution_count": 3,
   "metadata": {},
   "outputs": [],
   "source": [
    "import numpy as np\n",
    "%matplotlib widget\n",
    "import matplotlib.pyplot as plt\n",
    "\n",
    "x = np.linspace(0, 2*np.pi, 100)\n",
    "y = np.sin(x)\n",
    "z = np.sin(x+np.pi/2)"
   ]
  }
 ],
 "metadata": {
  "kernelspec": {
   "display_name": "envtwo",
   "language": "python",
   "name": "python3"
  },
  "language_info": {
   "codemirror_mode": {
    "name": "ipython",
    "version": 3
   },
   "file_extension": ".py",
   "mimetype": "text/x-python",
   "name": "python",
   "nbconvert_exporter": "python",
   "pygments_lexer": "ipython3",
   "version": "3.11.10"
  }
 },
 "nbformat": 4,
 "nbformat_minor": 2
}
